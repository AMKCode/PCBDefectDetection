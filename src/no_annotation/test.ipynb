{
 "cells": [
  {
   "cell_type": "code",
   "execution_count": 39,
   "metadata": {},
   "outputs": [
    {
     "data": {
      "text/plain": [
       "3"
      ]
     },
     "execution_count": 39,
     "metadata": {},
     "output_type": "execute_result"
    }
   ],
   "source": [
    "import os\n",
    "import torch\n",
    "from torch.utils.data import Dataset\n",
    "from torchvision.transforms import ToTensor\n",
    "from torchvision.io import read_image\n",
    "root = '/home/amk/data/DeepPCB/PCBData'\n",
    "img_name = 'group20085/20085/20085003_temp.jpg'\n",
    "img_path = os.path.join(root, img_name)\n",
    "image = read_image(img_path)\n",
    "image = torch.reshape(image, [1, 640, 640])\n",
    "\n",
    "t1 = torch.zeros([3, 640, 640])\n",
    "\n",
    "if t1.shape[0] \n",
    "t1[2::].shape"
   ]
  }
 ],
 "metadata": {
  "kernelspec": {
   "display_name": "pcb_detect",
   "language": "python",
   "name": "python3"
  },
  "language_info": {
   "codemirror_mode": {
    "name": "ipython",
    "version": 3
   },
   "file_extension": ".py",
   "mimetype": "text/x-python",
   "name": "python",
   "nbconvert_exporter": "python",
   "pygments_lexer": "ipython3",
   "version": "3.10.10"
  },
  "orig_nbformat": 4
 },
 "nbformat": 4,
 "nbformat_minor": 2
}
